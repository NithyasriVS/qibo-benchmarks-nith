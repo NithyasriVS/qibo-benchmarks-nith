{
 "cells": [
  {
   "cell_type": "code",
   "execution_count": 4,
   "id": "b17f0f7c",
   "metadata": {},
   "outputs": [],
   "source": [
    "import os\n",
    "import json\n",
    "import numpy as np\n",
    "import pandas as pd\n",
    "\n",
    "\n",
    "def to_markdown(data, columns=None, indexcol=None):\n",
    "    \"\"\"Prints DataFrame to markdown table format.\"\"\"\n",
    "    if columns is None:\n",
    "        columns = data.columns\n",
    "    \n",
    "    if indexcol is None:\n",
    "        entrystr = \"\"\n",
    "    else:\n",
    "        entrystr = \"{} | \".format(indexcol)\n",
    "    entrystr += \" | \".join(columns)\n",
    "    print(entrystr)\n",
    "    \n",
    "    if indexcol is None:\n",
    "        entrystr = \"\"\n",
    "    else:\n",
    "        entrystr = \" -- | \"\n",
    "    entrystr += \" | \".join(\"--\" for k in columns)\n",
    "    print(entrystr)\n",
    "    \n",
    "    for idx, entry in data.iterrows():\n",
    "        if indexcol is not None:\n",
    "            entrystr = \"{} | \".format(idx)\n",
    "        else:\n",
    "            entrystr = \"\"\n",
    "        entrystr += \" | \".join(str(entry[k]) for k in columns)\n",
    "        print(entrystr)"
   ]
  },
  {
   "cell_type": "markdown",
   "id": "2dd2102f",
   "metadata": {},
   "source": [
    "### QFT on GPU without `--transfer` flag"
   ]
  },
  {
   "cell_type": "code",
   "execution_count": 2,
   "id": "85012c9c",
   "metadata": {
    "scrolled": true
   },
   "outputs": [
    {
     "name": "stdout",
     "output_type": "stream",
     "text": [
      "nqubits | dry_run_time_qibotf | simulation_times_mean_qibotf | transfer_times_mean_qibotf | dry_run_time_qibojit | simulation_times_mean_qibojit | transfer_times_mean_qibojit\n",
      "-- | -- | -- | -- | -- | -- | --\n",
      "3 | 0.39460 | 0.00018 | 1.67e-07 | 0.59866 | 0.00042 | 1.43e-07\n",
      "4 | 0.43908 | 0.00027 | 1.79e-07 | 0.60160 | 0.00069 | 1.67e-07\n",
      "5 | 0.40198 | 0.00036 | 5.96e-08 | 0.60276 | 0.00100 | 1.67e-07\n",
      "6 | 0.40134 | 0.00048 | 1.19e-07 | 0.60435 | 0.00141 | 1.79e-07\n",
      "7 | 0.40313 | 0.00061 | 1.43e-07 | 0.59913 | 0.00192 | 2.26e-07\n",
      "8 | 0.40592 | 0.00073 | 1.43e-07 | 0.60148 | 0.00241 | 2.26e-07\n",
      "9 | 0.40369 | 0.00101 | 2.03e-07 | 0.60183 | 0.00308 | 2.03e-07\n",
      "10 | 0.40438 | 0.00118 | 1.67e-07 | 0.60435 | 0.00377 | 1.31e-07\n",
      "11 | 0.40475 | 0.00137 | 1.79e-07 | 0.60516 | 0.00490 | 1.31e-07\n",
      "12 | 0.40865 | 0.00148 | 1.43e-07 | 0.60577 | 0.00550 | 1.07e-07\n",
      "13 | 0.41127 | 0.00169 | 1.67e-07 | 0.60772 | 0.00642 | 1.55e-07\n",
      "14 | 0.41339 | 0.00186 | 1.79e-07 | 0.60931 | 0.00728 | 1.43e-07\n",
      "15 | 0.41293 | 0.00211 | 1.67e-07 | 0.61247 | 0.00838 | 1.07e-07\n",
      "16 | 0.41880 | 0.00244 | 1.67e-07 | 0.61360 | 0.00943 | 2.26e-07\n",
      "17 | 0.41646 | 0.00264 | 1.07e-07 | 0.61531 | 0.01061 | 1.55e-07\n",
      "18 | 0.41829 | 0.00291 | 1.31e-07 | 0.61998 | 0.01225 | 1.91e-07\n",
      "19 | 0.42397 | 0.00338 | 1.43e-07 | 0.62112 | 0.01412 | 1.79e-07\n",
      "20 | 0.42165 | 0.00340 | 9.54e-08 | 0.62487 | 0.01754 | 1.79e-07\n",
      "21 | 0.42646 | 0.00714 | 2.03e-07 | 0.63229 | 0.02468 | 2.03e-07\n",
      "22 | 0.43749 | 0.01525 | 1.43e-07 | 0.64394 | 0.03582 | 1.19e-07\n",
      "23 | 0.45771 | 0.03256 | 1.79e-07 | 0.67164 | 0.05840 | 1.19e-07\n",
      "24 | 0.50282 | 0.07040 | 1.55e-07 | 0.71533 | 0.10440 | 1.43e-07\n",
      "25 | 0.59467 | 0.15226 | 9.54e-08 | 0.81481 | 0.20122 | 2.03e-07\n",
      "26 | 0.80497 | 0.16712 | 1.43e-07 | 1.02070 | 0.40731 | 1.91e-07\n",
      "27 | 1.24945 | 0.38391 | 9.54e-08 | 1.45227 | 0.84523 | 9.54e-08\n",
      "28 | 2.16680 | 0.87513 | 4.77e-08 | 2.37421 | 1.76238 | 9.54e-08\n",
      "29 | 4.10580 | 1.96254 | 1.91e-07 | 4.31647 | 3.70431 | 2.38e-07\n",
      "30 | 8.22544 | 4.41218 | 1.91e-07 | 8.43494 | 7.83223 | 2.38e-07\n"
     ]
    }
   ],
   "source": [
    "data_dir = \"./data\"\n",
    "with open(os.path.join(data_dir, \"qibomachine_gpu_120721.dat\"), \"r\") as file:\n",
    "    data = pd.DataFrame(json.load(file))\n",
    "\n",
    "condition = (data[\"transfer\"] == False)\n",
    "columns = [\"nqubits\", \"dry_run_time\", \"simulation_times_mean\", \"transfer_times_mean\"]\n",
    "\n",
    "# Format decimal places for numbers\n",
    "data[\"nqubits\"] = data[\"nqubits\"].apply(lambda x: str(int(x)))\n",
    "data[\"dry_run_time\"] = data[\"dry_run_time\"].apply(lambda x: \"{:.5f}\".format(x))\n",
    "data[\"simulation_times_mean\"] = data[\"simulation_times_mean\"].apply(lambda x: \"{:.5f}\".format(x))\n",
    "data[\"transfer_times_mean\"] = data[\"transfer_times_mean\"].apply(lambda x: \"{:.2e}\".format(x))\n",
    "\n",
    "# Split backend data\n",
    "data1 = data[(data[\"backend\"] == \"qibotf\") & condition][columns]\n",
    "data2 = data[(data[\"backend\"] == \"qibojit\") & condition][columns]\n",
    "\n",
    "# Merge backend data to single table\n",
    "mdata = pd.merge(data1, data2, on=\"nqubits\", suffixes=[\"_qibotf\", \"_qibojit\"])\n",
    "to_markdown(mdata)"
   ]
  },
  {
   "cell_type": "markdown",
   "id": "f846d060",
   "metadata": {},
   "source": [
    "### QFT on GPU with `--transfer` flag"
   ]
  },
  {
   "cell_type": "code",
   "execution_count": 3,
   "id": "7c72cf33",
   "metadata": {
    "scrolled": true
   },
   "outputs": [
    {
     "name": "stdout",
     "output_type": "stream",
     "text": [
      "nqubits | dry_run_time_qibotf | simulation_times_mean_qibotf | transfer_times_mean_qibotf | dry_run_time_qibojit | simulation_times_mean_qibojit | transfer_times_mean_qibojit\n",
      "-- | -- | -- | -- | -- | -- | --\n",
      "3 | 0.43596 | 0.00020 | 0.00007 | 0.59963 | 0.00042 | 0.00002\n",
      "4 | 0.39633 | 0.00029 | 0.00007 | 0.59754 | 0.00069 | 0.00002\n",
      "5 | 0.39703 | 0.00037 | 0.00005 | 0.60078 | 0.00124 | 0.00003\n",
      "6 | 0.43670 | 0.00048 | 0.00006 | 0.60062 | 0.00144 | 0.00003\n",
      "7 | 0.39707 | 0.00060 | 0.00007 | 0.60116 | 0.00192 | 0.00003\n",
      "8 | 0.39910 | 0.00086 | 0.00007 | 0.60175 | 0.00247 | 0.00003\n",
      "9 | 0.40052 | 0.00090 | 0.00007 | 0.60195 | 0.00307 | 0.00003\n",
      "10 | 0.40190 | 0.00136 | 0.00009 | 0.60406 | 0.00378 | 0.00003\n",
      "11 | 0.40393 | 0.00124 | 0.00007 | 0.60603 | 0.00460 | 0.00003\n",
      "12 | 0.40746 | 0.00150 | 0.00010 | 0.60657 | 0.00555 | 0.00003\n",
      "13 | 0.40626 | 0.00199 | 0.00011 | 0.60899 | 0.00631 | 0.00004\n",
      "14 | 0.41173 | 0.00195 | 0.00013 | 0.61135 | 0.00744 | 0.00006\n",
      "15 | 0.41061 | 0.00219 | 0.00019 | 0.61152 | 0.00868 | 0.00009\n",
      "16 | 0.41648 | 0.00267 | 0.00029 | 0.61316 | 0.00951 | 0.00015\n",
      "17 | 0.41379 | 0.00262 | 0.00042 | 0.61535 | 0.01090 | 0.00021\n",
      "18 | 0.42075 | 0.00305 | 0.00108 | 0.61865 | 0.01225 | 0.00035\n",
      "19 | 0.42216 | 0.00356 | 0.00148 | 0.62372 | 0.01404 | 0.00063\n",
      "20 | 0.42475 | 0.00429 | 0.00429 | 0.62455 | 0.01795 | 0.00118\n",
      "21 | 0.43177 | 0.00599 | 0.01989 | 0.63170 | 0.02426 | 0.00604\n",
      "22 | 0.44296 | 0.00756 | 0.04410 | 0.64429 | 0.03593 | 0.01124\n",
      "23 | 0.45339 | 0.01000 | 0.09440 | 0.66962 | 0.05811 | 0.02269\n",
      "24 | 0.51764 | 0.01484 | 0.20125 | 0.71751 | 0.10499 | 0.04506\n",
      "25 | 0.59672 | 0.02370 | 0.41789 | 0.81463 | 0.20242 | 0.08906\n",
      "26 | 0.80824 | 0.04132 | 0.86398 | 1.01973 | 0.40921 | 0.17913\n",
      "27 | 1.23966 | 0.07590 | 1.78278 | 1.45314 | 0.84322 | 0.35727\n",
      "28 | 2.17133 | 0.14360 | 3.66798 | 2.37592 | 1.76866 | 0.71214\n",
      "29 | 4.09071 | 0.27914 | 7.55226 | 4.31522 | 3.71696 | 1.44324\n",
      "30 | 8.24056 | 0.54953 | 15.57440 | 8.43459 | 7.85579 | 2.85946\n"
     ]
    }
   ],
   "source": [
    "data_dir = \"./data\"\n",
    "with open(os.path.join(data_dir, \"qibomachine_gpu_120721.dat\"), \"r\") as file:\n",
    "    data = pd.DataFrame(json.load(file))\n",
    "\n",
    "condition = (data[\"transfer\"] == True)\n",
    "columns = [\"nqubits\", \"dry_run_time\", \"simulation_times_mean\", \"transfer_times_mean\"]\n",
    "\n",
    "# Format decimal places for numbers\n",
    "data[\"nqubits\"] = data[\"nqubits\"].apply(lambda x: str(int(x)))\n",
    "data[\"dry_run_time\"] = data[\"dry_run_time\"].apply(lambda x: \"{:.5f}\".format(x))\n",
    "data[\"simulation_times_mean\"] = data[\"simulation_times_mean\"].apply(lambda x: \"{:.5f}\".format(x))\n",
    "data[\"transfer_times_mean\"] = data[\"transfer_times_mean\"].apply(lambda x: \"{:.5f}\".format(x))\n",
    "    \n",
    "data1 = data[(data[\"backend\"] == \"qibotf\") & condition][columns]\n",
    "data2 = data[(data[\"backend\"] == \"qibojit\") & condition][columns]\n",
    "\n",
    "mdata = pd.merge(data1, data2, on=\"nqubits\", suffixes=[\"_qibotf\", \"_qibojit\"])\n",
    "to_markdown(mdata)"
   ]
  },
  {
   "cell_type": "markdown",
   "id": "fd8e4726",
   "metadata": {},
   "source": [
    "### QFT on CPU without `--transfer` flag"
   ]
  },
  {
   "cell_type": "code",
   "execution_count": 14,
   "id": "03ed4207",
   "metadata": {
    "scrolled": true
   },
   "outputs": [
    {
     "name": "stdout",
     "output_type": "stream",
     "text": [
      "nqubits | dry_run_time_qibotf | simulation_times_mean_qibotf | transfer_times_mean_qibotf | dry_run_time_qibojit | simulation_times_mean_qibojit | transfer_times_mean_qibojit\n",
      "-- | -- | -- | -- | -- | -- | --\n",
      "3 | 0.02204 | 0.00022 | 1.43e-07 | 0.04458 | 0.00022 | 1.55e-07\n",
      "4 | 0.01281 | 0.00033 | 1.31e-07 | 0.04514 | 0.00035 | 1.79e-07\n",
      "5 | 0.02081 | 0.00044 | 1.43e-07 | 0.04832 | 0.00048 | 1.55e-07\n",
      "6 | 0.03100 | 0.00071 | 1.79e-07 | 0.04606 | 0.00065 | 1.55e-07\n",
      "7 | 0.01742 | 0.00092 | 1.31e-07 | 0.04633 | 0.00081 | 1.43e-07\n",
      "8 | 0.02013 | 0.00097 | 1.43e-07 | 0.04628 | 0.00103 | 1.31e-07\n",
      "9 | 0.01718 | 0.00148 | 1.43e-07 | 0.04884 | 0.00124 | 1.55e-07\n",
      "10 | 0.02740 | 0.00143 | 1.31e-07 | 0.04980 | 0.00149 | 2.15e-07\n",
      "11 | 0.02756 | 0.00202 | 2.03e-07 | 0.04761 | 0.00176 | 1.07e-07\n",
      "12 | 0.03010 | 0.00242 | 1.91e-07 | 0.04766 | 0.00211 | 1.55e-07\n",
      "13 | 0.02453 | 0.00285 | 2.03e-07 | 0.04888 | 0.00243 | 1.07e-07\n",
      "14 | 0.03025 | 0.00275 | 1.31e-07 | 0.05112 | 0.00284 | 1.79e-07\n",
      "15 | 0.02947 | 0.00307 | 8.34e-08 | 0.04919 | 0.00331 | 1.67e-07\n",
      "16 | 0.02782 | 0.00477 | 2.03e-07 | 0.05105 | 0.00397 | 1.55e-07\n",
      "17 | 0.04057 | 0.00593 | 2.03e-07 | 0.05222 | 0.00465 | 9.54e-08\n",
      "18 | 0.03332 | 0.00796 | 2.26e-07 | 0.05470 | 0.00614 | 1.67e-07\n",
      "19 | 0.04806 | 0.01139 | 2.38e-07 | 0.06510 | 0.00872 | 2.03e-07\n",
      "20 | 0.05854 | 0.01893 | 1.31e-07 | 0.06235 | 0.01331 | 2.15e-07\n",
      "21 | 0.08477 | 0.03585 | 2.50e-07 | 0.07418 | 0.02553 | 2.50e-07\n",
      "22 | 0.10330 | 0.06841 | 2.62e-07 | 0.09367 | 0.04378 | 2.38e-07\n",
      "23 | 0.17976 | 0.11466 | 3.10e-07 | 0.13471 | 0.08685 | 2.98e-07\n",
      "24 | 0.36486 | 0.25442 | 6.08e-07 | 0.36032 | 0.17034 | 4.77e-07\n",
      "25 | 1.00394 | 0.72188 | 7.15e-07 | 1.01564 | 0.85100 | 5.60e-07\n",
      "26 | 2.55554 | 2.26341 | 9.54e-07 | 2.64565 | 2.56001 | 7.15e-07\n",
      "27 | 5.46977 | 5.17996 | 7.15e-07 | 5.58011 | 5.49317 | 7.15e-07\n",
      "28 | 11.06262 | 10.89465 | 9.54e-07 | 11.66926 | 11.56125 | 1.43e-06\n",
      "29 | 22.85293 | 22.91994 | 1.43e-06 | 24.40833 | 24.32428 | 9.54e-07\n",
      "30 | 48.08795 | 48.35743 | 9.54e-07 | 51.26601 | 51.10281 | 9.54e-07\n"
     ]
    }
   ],
   "source": [
    "data_dir = \"./data\"\n",
    "with open(os.path.join(data_dir, \"qibomachine_cpu_120721.dat\"), \"r\") as file:\n",
    "    data = pd.DataFrame(json.load(file))\n",
    "\n",
    "condition = (data[\"transfer\"] == False)\n",
    "columns = [\"nqubits\", \"dry_run_time\", \"simulation_times_mean\", \"transfer_times_mean\"]\n",
    "\n",
    "# Format decimal places for numbers\n",
    "data[\"nqubits\"] = data[\"nqubits\"].apply(lambda x: str(int(x)))\n",
    "data[\"dry_run_time\"] = data[\"dry_run_time\"].apply(lambda x: \"{:.5f}\".format(x))\n",
    "data[\"simulation_times_mean\"] = data[\"simulation_times_mean\"].apply(lambda x: \"{:.5f}\".format(x))\n",
    "data[\"transfer_times_mean\"] = data[\"transfer_times_mean\"].apply(lambda x: \"{:.2e}\".format(x))\n",
    "    \n",
    "data1 = data[(data[\"backend\"] == \"qibotf\") & condition][columns]\n",
    "data2 = data[(data[\"backend\"] == \"qibojit\") & condition][columns]\n",
    "\n",
    "mdata = pd.merge(data1, data2, on=\"nqubits\", suffixes=[\"_qibotf\", \"_qibojit\"])\n",
    "to_markdown(mdata)"
   ]
  },
  {
   "cell_type": "markdown",
   "id": "af133759",
   "metadata": {},
   "source": [
    "### QFT on CPU with `--transfer` flag"
   ]
  },
  {
   "cell_type": "code",
   "execution_count": 6,
   "id": "a3595c9f",
   "metadata": {
    "scrolled": true
   },
   "outputs": [
    {
     "name": "stdout",
     "output_type": "stream",
     "text": [
      "nqubits | dry_run_time_qibotf | simulation_times_mean_qibotf | transfer_times_mean_qibotf | dry_run_time_qibojit | simulation_times_mean_qibojit | transfer_times_mean_qibojit\n",
      "-- | -- | -- | -- | -- | -- | --\n",
      "3 | 0.01659 | 0.00039 | 0.00001 | 0.04616 | 0.00023 | 0.00000\n",
      "4 | 0.01298 | 0.00049 | 0.00001 | 0.04530 | 0.00034 | 0.00000\n",
      "5 | 0.01453 | 0.00056 | 0.00001 | 0.04520 | 0.00046 | 0.00000\n",
      "6 | 0.02418 | 0.00061 | 0.00001 | 0.04561 | 0.00064 | 0.00000\n",
      "7 | 0.02205 | 0.00098 | 0.00001 | 0.04539 | 0.00081 | 0.00000\n",
      "8 | 0.02849 | 0.00123 | 0.00001 | 0.04636 | 0.00105 | 0.00000\n",
      "9 | 0.02706 | 0.00121 | 0.00001 | 0.04700 | 0.00138 | 0.00000\n",
      "10 | 0.02626 | 0.00144 | 0.00001 | 0.04745 | 0.00170 | 0.00000\n",
      "11 | 0.02477 | 0.00212 | 0.00001 | 0.04750 | 0.00177 | 0.00000\n",
      "12 | 0.03104 | 0.00248 | 0.00002 | 0.05195 | 0.00212 | 0.00000\n",
      "13 | 0.03225 | 0.00280 | 0.00002 | 0.05354 | 0.00241 | 0.00000\n",
      "14 | 0.02479 | 0.00340 | 0.00003 | 0.04913 | 0.00303 | 0.00000\n",
      "15 | 0.03806 | 0.00389 | 0.00006 | 0.04933 | 0.00325 | 0.00000\n",
      "16 | 0.03502 | 0.00384 | 0.00010 | 0.05082 | 0.00386 | 0.00000\n",
      "17 | 0.03580 | 0.00567 | 0.00021 | 0.05566 | 0.00462 | 0.00000\n",
      "18 | 0.03571 | 0.00798 | 0.00044 | 0.05581 | 0.00620 | 0.00000\n",
      "19 | 0.04475 | 0.01186 | 0.00093 | 0.05688 | 0.00842 | 0.00000\n",
      "20 | 0.04789 | 0.01775 | 0.00209 | 0.06234 | 0.01321 | 0.00000\n",
      "21 | 0.06845 | 0.04019 | 0.00640 | 0.07240 | 0.02532 | 0.00000\n",
      "22 | 0.09426 | 0.07147 | 0.01169 | 0.10287 | 0.04597 | 0.00001\n",
      "23 | 0.19165 | 0.12844 | 0.02273 | 0.13306 | 0.08771 | 0.00001\n",
      "24 | 0.37634 | 0.24729 | 0.04534 | 0.30061 | 0.16393 | 0.00001\n",
      "25 | 0.90914 | 0.72249 | 0.08535 | 1.06516 | 0.84705 | 0.00001\n",
      "26 | 2.50028 | 2.35498 | 0.15988 | 2.64333 | 2.55197 | 0.00002\n",
      "27 | 5.35461 | 5.20267 | 0.30227 | 5.59805 | 5.50084 | 0.00002\n",
      "28 | 10.96517 | 10.94849 | 0.58009 | 11.72819 | 11.57337 | 0.00002\n",
      "29 | 22.84039 | 22.95112 | 1.14358 | 24.42889 | 24.30691 | 0.00003\n",
      "30 | 47.96546 | 48.38541 | 2.27260 | 51.27298 | 51.08939 | 0.00003\n"
     ]
    }
   ],
   "source": [
    "data_dir = \"./data\"\n",
    "with open(os.path.join(data_dir, \"qibomachine_cpu_120721.dat\"), \"r\") as file:\n",
    "    data = pd.DataFrame(json.load(file))\n",
    "\n",
    "condition = (data[\"transfer\"] == True)\n",
    "columns = [\"nqubits\", \"dry_run_time\", \"simulation_times_mean\", \"transfer_times_mean\"]\n",
    "\n",
    "# Format decimal places for numbers\n",
    "data[\"nqubits\"] = data[\"nqubits\"].apply(lambda x: str(int(x)))\n",
    "data[\"dry_run_time\"] = data[\"dry_run_time\"].apply(lambda x: \"{:.5f}\".format(x))\n",
    "data[\"simulation_times_mean\"] = data[\"simulation_times_mean\"].apply(lambda x: \"{:.5f}\".format(x))\n",
    "data[\"transfer_times_mean\"] = data[\"transfer_times_mean\"].apply(lambda x: \"{:.5f}\".format(x))\n",
    "    \n",
    "data1 = data[(data[\"backend\"] == \"qibotf\") & condition][columns]\n",
    "data2 = data[(data[\"backend\"] == \"qibojit\") & condition][columns]\n",
    "\n",
    "mdata = pd.merge(data1, data2, on=\"nqubits\", suffixes=[\"_qibotf\", \"_qibojit\"])\n",
    "to_markdown(mdata)"
   ]
  },
  {
   "cell_type": "code",
   "execution_count": null,
   "id": "2ae0769d",
   "metadata": {},
   "outputs": [],
   "source": []
  }
 ],
 "metadata": {
  "kernelspec": {
   "display_name": "Python 3",
   "language": "python",
   "name": "python3"
  },
  "language_info": {
   "codemirror_mode": {
    "name": "ipython",
    "version": 3
   },
   "file_extension": ".py",
   "mimetype": "text/x-python",
   "name": "python",
   "nbconvert_exporter": "python",
   "pygments_lexer": "ipython3",
   "version": "3.8.5"
  }
 },
 "nbformat": 4,
 "nbformat_minor": 5
}
