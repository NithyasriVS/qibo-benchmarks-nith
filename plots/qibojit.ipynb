{
 "cells": [
  {
   "cell_type": "code",
   "execution_count": null,
   "id": "5e17cda9",
   "metadata": {},
   "outputs": [],
   "source": [
    "import os\n",
    "import json\n",
    "import numpy as np\n",
    "import pandas as pd\n",
    "\n",
    "import matplotlib\n",
    "import matplotlib.pyplot as plt\n",
    "import seaborn as sns\n",
    "matplotlib.rcParams['mathtext.fontset'] = 'cm'\n",
    "matplotlib.rcParams['font.family'] = 'STIXGeneral'\n",
    "matplotlib.rcParams[\"font.size\"] = 30"
   ]
  },
  {
   "cell_type": "code",
   "execution_count": null,
   "id": "05fdce03",
   "metadata": {},
   "outputs": [],
   "source": [
    "def load_data(filename):\n",
    "    with open(filename, \"r\") as file:\n",
    "        data = pd.DataFrame(json.load(file))\n",
    "    data[\"total_dry_time\"]        = data[\"dry_run_time\"]          + data[\"creation_time\"] + data[\"import_time\"]\n",
    "    data[\"total_simulation_time\"] = data[\"simulation_times_mean\"] + data[\"creation_time\"] + data[\"import_time\"]\n",
    "    return data"
   ]
  },
  {
   "cell_type": "code",
   "execution_count": null,
   "id": "434db26d",
   "metadata": {},
   "outputs": [],
   "source": [
    "def plot_scaling(quantity, precision):\n",
    "\n",
    "    # Load data\n",
    "    filenames = [\n",
    "        (\"../qibojit_gpu_name1.dat\", \"Name 1\"),\n",
    "        (\"../qibojit_gpu_name2.dat\", \"Name 2\"),\n",
    "        (\"../qibojit_gpu_name3.dat\", \"Name 3\")\n",
    "    ]\n",
    "    data = {key: load_data(filename) for filename, key in filenames}\n",
    "    \n",
    "    # Settings\n",
    "    circuit   = \"qft\"\n",
    "    \n",
    "    # Filter data\n",
    "    for key in data:\n",
    "        condition = (data[key][\"circuit\"] == circuit) & (data[key][\"precision\"] == precision)\n",
    "        data[key] = data[key][condition]\n",
    "        \n",
    "    # Plot data\n",
    "    bcp = sns.color_palette(\"Blues\", 3)\n",
    "    plt.figure(figsize=(14, 8))\n",
    "    for index, key in enumerate(data):\n",
    "        plt.semilogy(data[key][\"nqubits\"], data[key][quantity],\n",
    "                     color=bcp[index], linewidth=3.0, label=key)\n",
    "\n",
    "    plt.title(f\"qibojit, {circuit}, {precision} precision\")\n",
    "    plt.xlabel(\"Number of qubits\")\n",
    "    if quantity == \"total_dry_time\":\n",
    "        plt.ylabel(\"Total dry run time (sec)\")\n",
    "    elif quantity == \"total_simulation_time\":\n",
    "        plt.ylabel(\"Total simulation time (sec)\")\n",
    "    #plt.legend(bbox_to_anchor=(1, 1))\n",
    "    plt.legend(loc=\"upper left\")\n",
    "    plt.savefig(f\"qibojit_gpu_{quantity}_{precision}.pdf\", bbox_inches=\"tight\")"
   ]
  },
  {
   "cell_type": "code",
   "execution_count": null,
   "id": "35626680",
   "metadata": {},
   "outputs": [],
   "source": [
    "plot_scaling(\"total_simulation_time\", \"double\")"
   ]
  },
  {
   "cell_type": "code",
   "execution_count": null,
   "id": "7ac04794",
   "metadata": {},
   "outputs": [],
   "source": []
  }
 ],
 "metadata": {
  "kernelspec": {
   "display_name": "Python 3 (ipykernel)",
   "language": "python",
   "name": "python3"
  },
  "language_info": {
   "codemirror_mode": {
    "name": "ipython",
    "version": 3
   },
   "file_extension": ".py",
   "mimetype": "text/x-python",
   "name": "python",
   "nbconvert_exporter": "python",
   "pygments_lexer": "ipython3",
   "version": "3.9.7"
  }
 },
 "nbformat": 4,
 "nbformat_minor": 5
}
