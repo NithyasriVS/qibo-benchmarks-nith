{
 "cells": [
  {
   "cell_type": "code",
   "execution_count": null,
   "id": "111fd150",
   "metadata": {},
   "outputs": [],
   "source": [
    "import os\n",
    "import json\n",
    "import numpy as np\n",
    "import pandas as pd\n",
    "\n",
    "import matplotlib\n",
    "import matplotlib.pyplot as plt\n",
    "import seaborn as sns\n",
    "matplotlib.rcParams['mathtext.fontset'] = 'cm'\n",
    "matplotlib.rcParams['font.family'] = 'STIXGeneral'\n",
    "matplotlib.rcParams[\"font.size\"] = 30"
   ]
  },
  {
   "cell_type": "code",
   "execution_count": null,
   "id": "966d0bda",
   "metadata": {},
   "outputs": [],
   "source": [
    "def load_data(filename):\n",
    "    with open(filename, \"r\") as file:\n",
    "        data = pd.DataFrame(json.load(file))\n",
    "    data[\"total_dry_time\"]        = data[\"dry_run_time\"]          + data[\"creation_time\"] + data[\"import_time\"]\n",
    "    data[\"total_simulation_time\"] = data[\"simulation_times_mean\"] + data[\"creation_time\"] + data[\"import_time\"]\n",
    "    return data"
   ]
  },
  {
   "cell_type": "code",
   "execution_count": null,
   "id": "0a13d563",
   "metadata": {},
   "outputs": [],
   "source": [
    "def plot_scaling(quantity, precision, circuit=\"qft\"):\n",
    "\n",
    "    # Load data\n",
    "    cpu = load_data(\"./qibo_scaling_cpu.dat\")\n",
    "    gpu = load_data(\"./qibo_scaling_gpu.dat\")\n",
    "\n",
    "    # Settings\n",
    "    cpu_backends = [\"numpy\", \"tensorflow\", \"qibotf\", \"qibojit\"]\n",
    "    gpu_backends = [\"tensorflow\", \"qibotf\", \"qibojit\"]\n",
    "\n",
    "    # Prepare GPU data\n",
    "    condition = (gpu[\"circuit\"] == circuit) & (gpu[\"precision\"] == precision)\n",
    "    data = {f\"{k} GPU\": gpu[(gpu[\"library_options\"] == f\"backend={k}\") & condition] for k in gpu_backends}\n",
    "\n",
    "    # Prepare CPU data\n",
    "    condition = (cpu[\"circuit\"] == circuit) & (cpu[\"precision\"] == precision)\n",
    "    data.update({k: cpu[(cpu[\"library_options\"] == f\"backend={k}\") & condition] for k in cpu_backends})\n",
    "\n",
    "    # Plot data\n",
    "    cpu_cp = sns.color_palette(\"Oranges\", len(cpu_backends))\n",
    "    gpu_cp = sns.color_palette(\"Purples\", len(gpu_backends))\n",
    "    plt.figure(figsize=(16, 9))\n",
    "    plt.semilogy(data[\"numpy\"][\"nqubits\"], data[\"numpy\"][quantity], marker=\"s\", markersize=10,\n",
    "                 color=cpu_cp[0], linewidth=3.0, label=\"numpy\")\n",
    "    plt.semilogy(data[\"tensorflow\"][\"nqubits\"], data[\"tensorflow\"][quantity], marker=\"o\", markersize=10,\n",
    "                 color=cpu_cp[1], linewidth=3.0, label=\"tensorflow cpu\")\n",
    "    plt.semilogy(data[\"qibotf\"][\"nqubits\"], data[\"qibotf\"][quantity], marker=\"^\", markersize=10,\n",
    "                 color=cpu_cp[2], linewidth=3.0, label=\"qibotf cpu\")\n",
    "    plt.semilogy(data[\"qibojit\"][\"nqubits\"], data[\"qibojit\"][quantity],\n",
    "                 color=cpu_cp[3], linewidth=3.0, label=\"qibojit cpu\", marker=\"D\", markersize=10)\n",
    "    plt.semilogy(data[\"tensorflow GPU\"][\"nqubits\"], data[\"tensorflow GPU\"][quantity], marker=\"o\", markersize=10,\n",
    "                 color=gpu_cp[0], linewidth=3.0, label=\"tensorflow gpu\")\n",
    "    plt.semilogy(data[\"qibotf GPU\"][\"nqubits\"], data[\"qibotf GPU\"][quantity], marker=\"^\", markersize=10,\n",
    "                 color=gpu_cp[1], linewidth=3.0, label=\"qibotf gpu\")\n",
    "    plt.semilogy(data[\"qibojit GPU\"][\"nqubits\"], data[\"qibojit GPU\"][quantity],\n",
    "                 color=gpu_cp[2], linewidth=3.0, label=\"qibojit gpu\", marker=\"D\", markersize=10)\n",
    "\n",
    "    plt.title(f\"{circuit}, {precision} precision\")\n",
    "    plt.xlabel(\"Number of qubits\")\n",
    "    if quantity == \"total_dry_time\":\n",
    "        plt.ylabel(\"Total dry run time (sec)\")\n",
    "    elif quantity == \"total_simulation_time\":\n",
    "        plt.ylabel(\"Total simulation time (sec)\")\n",
    "    plt.legend(fontsize=\"small\")\n",
    "    plt.savefig(f\"qibo_scaling_{quantity}_{precision}.pdf\", bbox_inches=\"tight\")"
   ]
  },
  {
   "cell_type": "code",
   "execution_count": null,
   "id": "35894e78",
   "metadata": {},
   "outputs": [],
   "source": [
    "plot_scaling(\"total_simulation_time\", \"double\")"
   ]
  },
  {
   "cell_type": "code",
   "execution_count": null,
   "id": "43fd5b58",
   "metadata": {},
   "outputs": [],
   "source": [
    "plot_scaling(\"total_dry_time\", \"double\")"
   ]
  },
  {
   "cell_type": "code",
   "execution_count": null,
   "id": "b2b500a9",
   "metadata": {},
   "outputs": [],
   "source": [
    "plot_scaling(\"total_simulation_time\", \"single\")"
   ]
  },
  {
   "cell_type": "code",
   "execution_count": null,
   "id": "b6b28bca",
   "metadata": {},
   "outputs": [],
   "source": [
    "plot_scaling(\"total_dry_time\", \"single\")"
   ]
  },
  {
   "cell_type": "code",
   "execution_count": null,
   "id": "8ffce44a",
   "metadata": {},
   "outputs": [],
   "source": [
    "def plot_bars(precision, nqubits):\n",
    "\n",
    "    # Load data\n",
    "    cpu_data = load_data(\"./qibo_scaling_cpu.dat\")\n",
    "    gpu_data = load_data(\"./qibo_scaling_gpu.dat\")\n",
    "    gpu_data[\"library_options\"] += \" GPU\"\n",
    "    data = pd.concat([cpu_data, gpu_data])\n",
    "\n",
    "    # Set plot params\n",
    "    hatches = ['/', '\\\\', 'o', '-', 'x', '.', '*']\n",
    "    width = 0.1\n",
    "    quantities = [\"import_time\", \"creation_time\", \"dry_run_time\", \"simulation_times_mean\", \"total_simulation_time\"]\n",
    "    circuit = [\"qft\", ]*6\n",
    "    backends = [\"tensorflow\", \"qibotf\", \"qibojit\", \"tensorflow GPU\", \"qibotf GPU\", \"qibojit GPU\"]\n",
    "    cp = sns.color_palette(\"Purples\", len(backends))\n",
    "    ws = [-2*width, -width, 0, width, 2 * width, 3*width]\n",
    "    base_condition = (data[\"nqubits\"] == nqubits) & (data[\"precision\"] == precision)\n",
    "\n",
    "    \n",
    "    # Plot the results\n",
    "    xvalues = np.array(range(len(circuit)))\n",
    "    plt.figure(figsize=(25, 9))\n",
    "    plt.title(f\"{nqubits} qubits - Total simulation time\")\n",
    "    for i, backend in enumerate(backends):\n",
    "        condition = (data[\"library_options\"] == f\"backend={backend}\") & base_condition\n",
    "        heights = {q: np.array([float(data[condition & (data[\"circuit\"] == circ)][q]) for circ in circuit])\n",
    "                   for q in quantities}\n",
    "\n",
    "        plt.bar(xvalues + ws[i], heights[\"total_simulation_time\"], color=cp[i],\n",
    "                align=\"center\", width=width, alpha=1, label=backend, log=True,\n",
    "                edgecolor='w', hatch=hatches[i])\n",
    "\n",
    "    plt.xticks(xvalues, circuit)\n",
    "    plt.ylabel(\"Total simulation time (sec)\")\n",
    "    plt.legend(fontsize=\"small\", bbox_to_anchor=(1,1))\n",
    "    plt.savefig(f\"qibo_bars_{precision}_{nqubits}.pdf\", bbox_inches=\"tight\")\n"
   ]
  },
  {
   "cell_type": "code",
   "execution_count": null,
   "id": "5025d947",
   "metadata": {},
   "outputs": [],
   "source": [
    "plot_bars(\"double\", 15)"
   ]
  },
  {
   "cell_type": "code",
   "execution_count": null,
   "id": "219f37c4",
   "metadata": {},
   "outputs": [],
   "source": [
    "plot_bars(\"double\", 28)"
   ]
  },
  {
   "cell_type": "code",
   "execution_count": null,
   "id": "83934c04",
   "metadata": {},
   "outputs": [],
   "source": []
  }
 ],
 "metadata": {
  "kernelspec": {
   "display_name": "Python 3 (ipykernel)",
   "language": "python",
   "name": "python3"
  },
  "language_info": {
   "codemirror_mode": {
    "name": "ipython",
    "version": 3
   },
   "file_extension": ".py",
   "mimetype": "text/x-python",
   "name": "python",
   "nbconvert_exporter": "python",
   "pygments_lexer": "ipython3",
   "version": "3.9.7"
  }
 },
 "nbformat": 4,
 "nbformat_minor": 5
}
