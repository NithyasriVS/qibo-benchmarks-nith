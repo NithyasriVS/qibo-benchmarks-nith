{
 "cells": [
  {
   "cell_type": "code",
   "execution_count": null,
   "id": "111fd150",
   "metadata": {},
   "outputs": [],
   "source": [
    "import os\n",
    "import json\n",
    "import numpy as np\n",
    "import pandas as pd\n",
    "\n",
    "import matplotlib\n",
    "import matplotlib.pyplot as plt\n",
    "import seaborn as sns\n",
    "matplotlib.rcParams['mathtext.fontset'] = 'cm'\n",
    "matplotlib.rcParams['font.family'] = 'STIXGeneral'\n",
    "matplotlib.rcParams[\"font.size\"] = 30"
   ]
  },
  {
   "cell_type": "code",
   "execution_count": null,
   "id": "966d0bda",
   "metadata": {},
   "outputs": [],
   "source": [
    "def load_data(filename):\n",
    "    with open(filename, \"r\") as file:\n",
    "        data = pd.DataFrame(json.load(file))\n",
    "    data[\"total_dry_time\"]        = data[\"dry_run_time\"]          + data[\"creation_time\"] + data[\"import_time\"]\n",
    "    data[\"total_simulation_time\"] = data[\"simulation_times_mean\"] + data[\"creation_time\"] + data[\"import_time\"]\n",
    "    return data"
   ]
  },
  {
   "cell_type": "code",
   "execution_count": null,
   "id": "0a13d563",
   "metadata": {},
   "outputs": [],
   "source": [
    "def plot_scaling(quantity, precision):\n",
    "\n",
    "    # Load data\n",
    "    cpu = load_data(\"./qibo_scaling_cpu.dat\")\n",
    "    gpu = load_data(\"./qibo_scaling_gpu.dat\")\n",
    "\n",
    "    # Settings\n",
    "    circuit   = \"qft\"\n",
    "    cpu_backends = [\"numpy\", \"tensorflow\", \"qibotf\", \"qibojit\"]\n",
    "    gpu_backends = [\"tensorflow\", \"qibotf\", \"qibojit\"]\n",
    "\n",
    "    # Prepare GPU data\n",
    "    condition = (gpu[\"circuit\"] == circuit) & (gpu[\"precision\"] == precision)\n",
    "    data = {f\"{k} GPU\": gpu[(gpu[\"library_options\"] == f\"backend={k}\") & condition] for k in gpu_backends}\n",
    "\n",
    "    # Prepare CPU data\n",
    "    condition = (cpu[\"circuit\"] == circuit) & (cpu[\"precision\"] == precision)\n",
    "    data.update({k: cpu[(cpu[\"library_options\"] == f\"backend={k}\") & condition] for k in cpu_backends})\n",
    "\n",
    "    # Plot data\n",
    "    cp  = sns.color_palette(\"Paired\")\n",
    "    bcp = sns.color_palette(\"Blues\", 3)\n",
    "    plt.figure(figsize=(14, 8))\n",
    "    plt.semilogy(data[\"numpy\"][\"nqubits\"], data[\"numpy\"][quantity], marker=\"^\", markersize=10,\n",
    "                 color=cp[0], linewidth=3.0, label=\"numpy\")\n",
    "    plt.semilogy(data[\"tensorflow\"][\"nqubits\"], data[\"tensorflow\"][quantity], marker=\"v\", markersize=10,\n",
    "                 color=cp[1], linewidth=3.0, label=\"tensorflow cpu\")\n",
    "    plt.semilogy(data[\"qibotf\"][\"nqubits\"], data[\"qibotf\"][quantity], marker=\"v\", markersize=10,\n",
    "                 color=cp[2], linewidth=3.0, label=\"qibotf cpu\")\n",
    "    plt.semilogy(data[\"qibojit\"][\"nqubits\"], data[\"qibojit\"][quantity],\n",
    "                 color=cp[3], linewidth=3.0, label=\"qibojit cpu\")\n",
    "    plt.semilogy(data[\"tensorflow GPU\"][\"nqubits\"], data[\"tensorflow GPU\"][quantity], marker=\"v\", markersize=10,\n",
    "                 color=bcp[0], linewidth=3.0, label=\"tensorflow gpu\")\n",
    "    plt.semilogy(data[\"qibotf GPU\"][\"nqubits\"], data[\"qibotf GPU\"][quantity], marker=\"v\", markersize=10,\n",
    "                 color=bcp[1], linewidth=3.0, label=\"qibotf gpu\")\n",
    "    plt.semilogy(data[\"qibojit GPU\"][\"nqubits\"], data[\"qibojit GPU\"][quantity],\n",
    "                 color=bcp[2], linewidth=3.0, label=\"qibojit gpu\")\n",
    "\n",
    "    plt.title(f\"{circuit}, {precision} precision\")\n",
    "    plt.xlabel(\"Number of qubits\")\n",
    "    if quantity == \"total_dry_time\":\n",
    "        plt.ylabel(\"Total dry run time (sec)\")\n",
    "    elif quantity == \"total_simulation_time\":\n",
    "        plt.ylabel(\"Total simulation time (sec)\")\n",
    "    #plt.legend(bbox_to_anchor=(1, 1))\n",
    "    plt.legend(loc=\"upper left\")\n",
    "    plt.savefig(f\"qibo_scaling_{quantity}_{precision}.pdf\", bbox_inches=\"tight\")"
   ]
  },
  {
   "cell_type": "code",
   "execution_count": null,
   "id": "35894e78",
   "metadata": {},
   "outputs": [],
   "source": [
    "plot_scaling(\"total_simulation_time\", \"double\")"
   ]
  },
  {
   "cell_type": "code",
   "execution_count": null,
   "id": "43fd5b58",
   "metadata": {},
   "outputs": [],
   "source": [
    "plot_scaling(\"total_dry_time\", \"double\")"
   ]
  },
  {
   "cell_type": "code",
   "execution_count": null,
   "id": "b2b500a9",
   "metadata": {},
   "outputs": [],
   "source": [
    "plot_scaling(\"total_simulation_time\", \"single\")"
   ]
  },
  {
   "cell_type": "code",
   "execution_count": null,
   "id": "b6b28bca",
   "metadata": {},
   "outputs": [],
   "source": [
    "plot_scaling(\"total_dry_time\", \"single\")"
   ]
  }
 ],
 "metadata": {
  "kernelspec": {
   "display_name": "Python 3 (ipykernel)",
   "language": "python",
   "name": "python3"
  },
  "language_info": {
   "codemirror_mode": {
    "name": "ipython",
    "version": 3
   },
   "file_extension": ".py",
   "mimetype": "text/x-python",
   "name": "python",
   "nbconvert_exporter": "python",
   "pygments_lexer": "ipython3",
   "version": "3.9.7"
  }
 },
 "nbformat": 4,
 "nbformat_minor": 5
}
