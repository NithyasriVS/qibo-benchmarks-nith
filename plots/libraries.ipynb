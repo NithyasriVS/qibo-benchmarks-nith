{
 "cells": [
  {
   "cell_type": "code",
   "execution_count": null,
   "id": "e8c05224",
   "metadata": {},
   "outputs": [],
   "source": [
    "import os\n",
    "import json\n",
    "import numpy as np\n",
    "import pandas as pd\n",
    "\n",
    "import matplotlib\n",
    "import matplotlib.pyplot as plt\n",
    "from matplotlib.patches import Patch\n",
    "import seaborn as sns\n",
    "matplotlib.rcParams['mathtext.fontset'] = 'cm'\n",
    "matplotlib.rcParams['font.family'] = 'STIXGeneral'\n",
    "matplotlib.rcParams[\"font.size\"] = 30"
   ]
  },
  {
   "cell_type": "code",
   "execution_count": null,
   "id": "6ee51a8e",
   "metadata": {},
   "outputs": [],
   "source": [
    "def load_data(filename):\n",
    "    with open(filename, \"r\") as file:\n",
    "        data = pd.DataFrame(json.load(file))\n",
    "    data[\"total_dry_time\"]        = data[\"dry_run_time\"]          + data[\"creation_time\"] + data[\"import_time\"]\n",
    "    data[\"total_simulation_time\"] = data[\"simulation_times_mean\"] + data[\"creation_time\"] + data[\"import_time\"]\n",
    "    return data"
   ]
  },
  {
   "cell_type": "code",
   "execution_count": null,
   "id": "932d6ec8",
   "metadata": {},
   "outputs": [],
   "source": [
    "def plot_bars(precision, nqubits):\n",
    "\n",
    "    # Load data\n",
    "    cpu_data = load_data(\"../library_cpu.dat\")\n",
    "    gpu_data = load_data(\"../library_gpu.dat\")\n",
    "    gpu_data[\"library\"] += \" GPU\"\n",
    "    data = pd.concat([cpu_data, gpu_data])\n",
    "\n",
    "    \n",
    "    # Set plot params\n",
    "    hatches = ['/', '\\\\', 'o', '-', 'x', '.', '*', '+']\n",
    "    width = 0.1\n",
    "    quantities = [\"import_time\", \"creation_time\", \"dry_run_time\",\n",
    "                  \"simulation_times_mean\", \"total_simulation_time\", \"total_dry_time\"]\n",
    "    circuit = [\"qft\", \"variational\", \"supremacy\", \"qv\", \"bv\"]\n",
    "    libraries = [\"qibo\", \"qibo GPU\", \"qiskit\", \"qiskit-gpu GPU\", \"qulacs\", \"qulacs-gpu GPU\", \"projectq\"]\n",
    "    palette     = sns.color_palette(\"bright\", 7)\n",
    "    #blues_cp   = sns.color_palette(\"Blues\", 2)\n",
    "    #oranges_cp = sns.color_palette(\"Oranges\", 2)\n",
    "    #greens_cp  = sns.color_palette(\"Greens\", 2)\n",
    "    #reds_cp    = sns.color_palette(\"Reds\", 2)\n",
    "    ws = [-3*width, -2*width, -width, 0, width, 2 * width, 3*width, 4*width]\n",
    "    base_condition = (data[\"nqubits\"] == nqubits) & (data[\"precision\"] == precision)\n",
    "\n",
    "    \n",
    "    # Plot the results\n",
    "    xvalues = np.array(range(len(circuit)))\n",
    "    plt.figure(figsize=(25, 9))\n",
    "    plt.title(f\"{nqubits} qubits - Total dry time\")\n",
    "    for i, library in enumerate(libraries):\n",
    "        condition = (data[\"library\"] == library) & base_condition\n",
    "        heights = {q: np.array([float(data[condition & (data[\"circuit\"] == circ)][q]) for circ in circuit])\n",
    "                   for q in quantities}\n",
    "\n",
    "        # Set the color and hatch, library by library\n",
    "        if library == \"qibo\":\n",
    "            cp      = palette[0]\n",
    "            texture = \"/\"\n",
    "            label   = \"Qibo\"\n",
    "            alpha   = 0.5\n",
    "        elif library == \"qibo GPU\":\n",
    "            cp      = palette[0]\n",
    "            texture = \"/\"\n",
    "            label   = \"Qibo GPU\"\n",
    "            alpha   = 1\n",
    "        elif library == \"qiskit\":\n",
    "            cp      = palette[1]\n",
    "            texture = \"-\"\n",
    "            label   = \"Qiskit\"\n",
    "            alpha   = 0.5\n",
    "        elif library == \"qiskit-gpu GPU\":\n",
    "            cp      = palette[1]\n",
    "            texture = \"-\"\n",
    "            label   = \"Qiskit GPU\"\n",
    "            alpha   = 1\n",
    "        if library == \"qulacs\":\n",
    "            cp      = palette[2]\n",
    "            texture = \"\\\\\"\n",
    "            label   = \"Qulacs\"\n",
    "            alpha   = 0.5\n",
    "        elif library == \"qulacs-gpu GPU\":\n",
    "            cp      = palette[2]\n",
    "            texture = \"\\\\\"\n",
    "            label   = \"Qulacs GPU\"\n",
    "            alpha   = 1\n",
    "        elif library == \"projectq\":\n",
    "            cp      = palette[3]\n",
    "            texture = \"x\"\n",
    "            label   = \"ProjectQ\"\n",
    "            alpha   = 0.5\n",
    "\n",
    "        plt.bar(xvalues + ws[i], heights[\"total_dry_time\"], color=cp,\n",
    "                align=\"center\", width=width, alpha=alpha, label=label, log=True,\n",
    "                edgecolor='w', hatch=texture)\n",
    "\n",
    "    plt.xticks(xvalues, circuit)\n",
    "    plt.ylabel(\"Total dry time (sec)\")\n",
    "    plt.legend(fontsize=\"small\", bbox_to_anchor=(1,1))\n",
    "    plt.savefig(f\"libraries_bars_{precision}_{nqubits}.pdf\", bbox_inches=\"tight\"),"
   ]
  },
  {
   "cell_type": "code",
   "execution_count": null,
   "id": "f95fe884",
   "metadata": {
    "scrolled": false
   },
   "outputs": [],
   "source": [
    "plot_bars(\"double\", 30)"
   ]
  },
  {
   "cell_type": "code",
   "execution_count": null,
   "id": "1f553caf",
   "metadata": {},
   "outputs": [],
   "source": []
  }
 ],
 "metadata": {
  "kernelspec": {
   "display_name": "Python 3 (ipykernel)",
   "language": "python",
   "name": "python3"
  },
  "language_info": {
   "codemirror_mode": {
    "name": "ipython",
    "version": 3
   },
   "file_extension": ".py",
   "mimetype": "text/x-python",
   "name": "python",
   "nbconvert_exporter": "python",
   "pygments_lexer": "ipython3",
   "version": "3.9.7"
  }
 },
 "nbformat": 4,
 "nbformat_minor": 5
}
