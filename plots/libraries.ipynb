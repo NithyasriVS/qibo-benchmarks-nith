{
 "cells": [
  {
   "cell_type": "code",
   "execution_count": null,
   "id": "e8c05224",
   "metadata": {},
   "outputs": [],
   "source": [
    "import os\n",
    "import json\n",
    "import numpy as np\n",
    "import pandas as pd\n",
    "\n",
    "import matplotlib\n",
    "import matplotlib.pyplot as plt\n",
    "from matplotlib.patches import Patch\n",
    "import seaborn as sns\n",
    "matplotlib.rcParams['mathtext.fontset'] = 'cm'\n",
    "matplotlib.rcParams['font.family'] = 'STIXGeneral'\n",
    "matplotlib.rcParams[\"font.size\"] = 30"
   ]
  },
  {
   "cell_type": "code",
   "execution_count": null,
   "id": "6ee51a8e",
   "metadata": {},
   "outputs": [],
   "source": [
    "def load_data(filename):\n",
    "    with open(filename, \"r\") as file:\n",
    "        data = pd.DataFrame(json.load(file))\n",
    "    data[\"total_dry_time\"]        = data[\"dry_run_time\"]          + data[\"creation_time\"] + data[\"import_time\"]\n",
    "    data[\"total_simulation_time\"] = data[\"simulation_times_mean\"] + data[\"creation_time\"] + data[\"import_time\"]\n",
    "    return data"
   ]
  },
  {
   "cell_type": "code",
   "execution_count": null,
   "id": "3dd7ecc4",
   "metadata": {},
   "outputs": [],
   "source": [
    "def plot_scaling(quantity, precision, circuit=\"qft\"):\n",
    "\n",
    "    # Load data\n",
    "    cpu = load_data(\"../library_cpu.dat\")\n",
    "    gpu = load_data(\"../library_gpu.dat\")\n",
    "    gpu[\"library\"] += \" GPU\"\n",
    "    data = pd.concat([cpu, gpu])\n",
    "\n",
    "    \n",
    "    # Settings\n",
    "    libraries = [\"qibo\", \"qiskit\", \"qsim\", \"qibo GPU\", \"qiskit-gpu GPU\", \"qsim-cuquantum GPU\", \"qcgpu GPU\"]\n",
    "\n",
    "    # Prepare GPU data\n",
    "    condition = (data[\"circuit\"] == circuit) & (data[\"precision\"] == precision)\n",
    "    data = {k: data[(data[\"library\"] == k) & condition] for k in libraries}\n",
    "\n",
    "    # Plot data\n",
    "    cp = sns.color_palette(\"colorblind\", len(libraries))\n",
    "    plt.figure(figsize=(16, 9))\n",
    "    plt.semilogy(data[\"qibo\"][\"nqubits\"], data[\"qibo\"][quantity], marker=\"s\", markersize=10,\n",
    "                 color=cp[0], linewidth=3.0, label=\"qibo\")\n",
    "    plt.semilogy(data[\"qiskit\"][\"nqubits\"], data[\"qiskit\"][quantity], marker=\"o\", markersize=10,\n",
    "                 color=cp[1], linewidth=3.0, label=\"qiskit\")\n",
    "    plt.semilogy(data[\"qsim\"][\"nqubits\"], data[\"qsim\"][quantity], marker=\"^\", markersize=10,\n",
    "                 color=cp[2], linewidth=3.0, label=\"qsim\")\n",
    "    plt.semilogy(data[\"qibo GPU\"][\"nqubits\"], data[\"qibo GPU\"][quantity], marker=\"o\", markersize=10,\n",
    "                 color=cp[3], linewidth=3.0, label=\"qibo GPU\")\n",
    "    plt.semilogy(data[\"qiskit-gpu GPU\"][\"nqubits\"], data[\"qiskit-gpu GPU\"][quantity], marker=\"^\", markersize=10,\n",
    "                 color=cp[4], linewidth=3.0, label=\"qiskit GPU\")\n",
    "    plt.semilogy(data[\"qsim-cuquantum GPU\"][\"nqubits\"], data[\"qsim-cuquantum GPU\"][quantity],\n",
    "                 color=cp[5], linewidth=3.0, label=\"qsim-cuquantum GPU\", marker=\"D\", markersize=10)\n",
    "    plt.semilogy(data[\"qcgpu GPU\"][\"nqubits\"], data[\"qcgpu GPU\"][quantity],\n",
    "                 color=cp[5], linewidth=3.0, label=\"qcgpu\", marker=\"*\", markersize=10)\n",
    "\n",
    "\n",
    "    plt.title(f\"{circuit}, {precision} precision\")\n",
    "    plt.xlabel(\"Number of qubits\")\n",
    "    if quantity == \"total_dry_time\":\n",
    "        plt.ylabel(\"Total dry run time (sec)\")\n",
    "    elif quantity == \"total_simulation_time\":\n",
    "        plt.ylabel(\"Total simulation time (sec)\")\n",
    "    plt.legend(fontsize=\"small\", bbox_to_anchor=(1,1))\n",
    "    plt.savefig(f\"libraries_scaling_{quantity}_{precision}.pdf\", bbox_inches=\"tight\")"
   ]
  },
  {
   "cell_type": "code",
   "execution_count": null,
   "id": "e33ff1ca",
   "metadata": {},
   "outputs": [],
   "source": [
    "plot_scaling(\"total_dry_time\", \"single\")"
   ]
  },
  {
   "cell_type": "code",
   "execution_count": null,
   "id": "932d6ec8",
   "metadata": {},
   "outputs": [],
   "source": [
    "def plot_bars(precision, nqubits):\n",
    "\n",
    "    # Load data\n",
    "    cpu_data = load_data(\"../library_cpu.dat\")\n",
    "    gpu_data = load_data(\"../library_gpu.dat\")\n",
    "    gpu_data[\"library\"] += \" GPU\"\n",
    "    data = pd.concat([cpu_data, gpu_data])\n",
    "\n",
    "    \n",
    "    # Set plot params\n",
    "    hatches = ['/', '\\\\', 'o', '-', 'x', '.', '*']\n",
    "    width = 0.1\n",
    "    quantities = [\"import_time\", \"creation_time\", \"dry_run_time\", \"simulation_times_mean\", \"total_simulation_time\"]\n",
    "    circuit = [\"qft\", \"variational\", \"supremacy\", \"qv\", \"bv\"]\n",
    "    libraries = [\"qibo\", \"qiskit\", \"qsim\", \"qibo GPU\", \"qiskit-gpu GPU\", \"qsim-cuquantum GPU\", \"qcgpu GPU\"]\n",
    "    cp = sns.color_palette(\"pastel\", len(libraries))\n",
    "    ws = [-3*width, -2*width, -width, 0, width, 2 * width, 3*width]\n",
    "    base_condition = (data[\"nqubits\"] == nqubits) & (data[\"precision\"] == precision)\n",
    "\n",
    "    \n",
    "    # Plot the results\n",
    "    xvalues = np.array(range(len(circuit)))\n",
    "    plt.figure(figsize=(25, 9))\n",
    "    plt.title(f\"{nqubits} qubits - Simulation time\")\n",
    "    for i, library in enumerate(libraries):\n",
    "        condition = (data[\"library\"] == library) & base_condition\n",
    "        heights = {q: np.array([float(data[condition & (data[\"circuit\"] == circ)][q]) for circ in circuit])\n",
    "                   for q in quantities}\n",
    "\n",
    "        plt.bar(xvalues + ws[i], heights[\"simulation_times_mean\"], color=cp[i],\n",
    "                align=\"center\", width=width, alpha=1, label=library, log=True,\n",
    "                edgecolor='w', hatch=hatches[i])\n",
    "\n",
    "    plt.xticks(xvalues, circuit)\n",
    "    plt.ylabel(\"Simulation time (sec)\")\n",
    "    plt.legend(fontsize=\"small\", bbox_to_anchor=(1,1))\n",
    "    plt.savefig(f\"libraries_bars_{precision}_{nqubits}.pdf\", bbox_inches=\"tight\")"
   ]
  },
  {
   "cell_type": "code",
   "execution_count": null,
   "id": "f95fe884",
   "metadata": {
    "scrolled": false
   },
   "outputs": [],
   "source": [
    "plot_bars(\"single\", 28)"
   ]
  },
  {
   "cell_type": "code",
   "execution_count": null,
   "id": "1f553caf",
   "metadata": {},
   "outputs": [],
   "source": []
  }
 ],
 "metadata": {
  "kernelspec": {
   "display_name": "Python 3 (ipykernel)",
   "language": "python",
   "name": "python3"
  },
  "language_info": {
   "codemirror_mode": {
    "name": "ipython",
    "version": 3
   },
   "file_extension": ".py",
   "mimetype": "text/x-python",
   "name": "python",
   "nbconvert_exporter": "python",
   "pygments_lexer": "ipython3",
   "version": "3.9.7"
  }
 },
 "nbformat": 4,
 "nbformat_minor": 5
}
