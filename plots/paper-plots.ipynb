{
 "cells": [
  {
   "cell_type": "markdown",
   "id": "76badf4a",
   "metadata": {},
   "source": [
    "To generate the plots used in the paper, download the following gist:\n",
    "\n",
    "[stavros11/ffb88a5b914b60213515f0256c0e8aa4](https://gist.github.com/stavros11/ffb88a5b914b60213515f0256c0e8aa4)\n",
    "\n",
    "copy the contents in a folder named `/data` in the directory of this notebook and execute all cells.\n",
    "\n",
    "The same plotting functionality should work with logs generated from different machines. The logs provided in the gist serve as a template."
   ]
  },
  {
   "cell_type": "code",
   "execution_count": null,
   "id": "97f43ed0",
   "metadata": {},
   "outputs": [],
   "source": [
    "from utils import load_data"
   ]
  },
  {
   "cell_type": "markdown",
   "id": "f4d6d97f",
   "metadata": {},
   "source": [
    "## Figure 2\n",
    "\n",
    "Bar plot with import breakdown and dry run vs simulation comparison for qibojit."
   ]
  },
  {
   "cell_type": "code",
   "execution_count": null,
   "id": "ba717379",
   "metadata": {},
   "outputs": [],
   "source": [
    "from barplots import plot_breakdown_nqubits\n",
    "\n",
    "data = load_data(f\"./data/qibojit_breakdown.dat\")\n",
    "plot_breakdown_nqubits(data, \"supremacy\")"
   ]
  },
  {
   "cell_type": "markdown",
   "id": "6e2eeb0b",
   "metadata": {},
   "source": [
    "## Figure 3\n",
    "\n",
    "Scaling plots of execution time as a function of the number of qubits for all qibo backends."
   ]
  },
  {
   "cell_type": "code",
   "execution_count": null,
   "id": "1ba0a87d",
   "metadata": {
    "scrolled": true
   },
   "outputs": [],
   "source": [
    "from scaling import plot_scaling\n",
    "\n",
    "cpu_data = load_data(\"./data/qibo_scaling_cpu.dat\")\n",
    "gpu_data = load_data(\"./data/qibo_scaling_gpu.dat\")\n",
    "\n",
    "plot_scaling(cpu_data, gpu_data, \"qft\", \"total_dry_time\")\n",
    "plot_scaling(cpu_data, gpu_data, \"qft\", \"total_simulation_time\")"
   ]
  },
  {
   "cell_type": "markdown",
   "id": "8cb5555a",
   "metadata": {},
   "source": [
    "## Figure 4\n",
    "\n",
    "qibojit backend performance on different CPU and GPU devices."
   ]
  },
  {
   "cell_type": "code",
   "execution_count": null,
   "id": "895cb582",
   "metadata": {
    "scrolled": true
   },
   "outputs": [],
   "source": [
    "from hardware import plot_hardware\n",
    "\n",
    "data = {\n",
    "    \"NVIDIA RTX A6000\": load_data(\"./data/qibo_scaling_gpu.dat\", qibojit_only=True),\n",
    "    \"NVIDIA DGX V100\": load_data(\"./data/dgx_qibojit.dat\", qibojit_only=True),\n",
    "    \"NVIDIA GTX 1650\": load_data(\"./data/gtx1650_qibojit.dat\", qibojit_only=True),\n",
    "    \"AMD EPYC 7742\": load_data(\"./data/qibo_scaling_cpu.dat\", qibojit_only=True)\n",
    "}\n",
    "# filter qibojit-cupy only data if the log file contains more (eg. qibojit-cuquantum)\n",
    "is_cupy = data[\"NVIDIA RTX A6000\"][\"library_options\"].apply(lambda x: \"cupy\" in x)\n",
    "data[\"NVIDIA RTX A6000\"] = data[\"NVIDIA RTX A6000\"][is_cupy == True]\n",
    "\n",
    "plot_hardware(data, \"qft\", \"total_dry_time\", legend=False)\n",
    "plot_hardware(data, \"qft\", \"total_simulation_time\", legend=True)"
   ]
  },
  {
   "cell_type": "markdown",
   "id": "5cd4c946",
   "metadata": {},
   "source": [
    "## Figure 5\n",
    "\n",
    "Bar plot with different multigpu configurations and qibojit vs qibotf comparison."
   ]
  },
  {
   "cell_type": "code",
   "execution_count": null,
   "id": "15099a54",
   "metadata": {
    "scrolled": true
   },
   "outputs": [],
   "source": [
    "from barplots import plot_multigpu\n",
    "\n",
    "data = load_data(\"./data/multigpu.dat\")\n",
    "plot_multigpu(data, 32, \"total_dry_time\")\n",
    "plot_multigpu(data, 32, \"total_simulation_time\", legend=True)"
   ]
  },
  {
   "cell_type": "markdown",
   "id": "64538a61",
   "metadata": {},
   "source": [
    "## Figure 6-7\n",
    "\n",
    "Bar plot with comparisons between different simulation libraries on various circuits."
   ]
  },
  {
   "cell_type": "code",
   "execution_count": null,
   "id": "81035c0e",
   "metadata": {
    "scrolled": true
   },
   "outputs": [],
   "source": [
    "from libraries import plot_libraries_single, plot_libraries_double\n",
    "\n",
    "cpu_data = load_data(\"./data/libraries_cpu.dat\")\n",
    "gpu_data = load_data(\"./data/libraries_gpu.dat\")\n",
    "\n",
    "plot_libraries_single(cpu_data, gpu_data, \"total_dry_time\", 20, legend=False)\n",
    "plot_libraries_single(cpu_data, gpu_data, \"total_dry_time\", 30, legend=True)\n",
    "\n",
    "plot_libraries_double(cpu_data, gpu_data, \"total_dry_time\", 20, legend=False)\n",
    "plot_libraries_double(cpu_data, gpu_data, \"total_dry_time\", 30, legend=True)"
   ]
  },
  {
   "cell_type": "code",
   "execution_count": null,
   "id": "6d7c77f0",
   "metadata": {},
   "outputs": [],
   "source": []
  }
 ],
 "metadata": {
  "kernelspec": {
   "display_name": "Python 3 (ipykernel)",
   "language": "python",
   "name": "python3"
  },
  "language_info": {
   "codemirror_mode": {
    "name": "ipython",
    "version": 3
   },
   "file_extension": ".py",
   "mimetype": "text/x-python",
   "name": "python",
   "nbconvert_exporter": "python",
   "pygments_lexer": "ipython3",
   "version": "3.8.12"
  }
 },
 "nbformat": 4,
 "nbformat_minor": 5
}
