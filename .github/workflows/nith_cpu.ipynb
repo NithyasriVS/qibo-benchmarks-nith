{
 "cells": [
  {
   "cell_type": "code",
   "execution_count": 2,
   "metadata": {},
   "outputs": [
    {
     "ename": "ModuleNotFoundError",
     "evalue": "No module named 'plots'",
     "output_type": "error",
     "traceback": [
      "\u001b[1;31m---------------------------------------------------------------------------\u001b[0m",
      "\u001b[1;31mModuleNotFoundError\u001b[0m                       Traceback (most recent call last)",
      "Cell \u001b[1;32mIn[2], line 1\u001b[0m\n\u001b[1;32m----> 1\u001b[0m \u001b[38;5;28;01mimport\u001b[39;00m \u001b[38;5;21;01mplots\u001b[39;00m\u001b[38;5;21;01m.\u001b[39;00m\u001b[38;5;21;01mutils\u001b[39;00m\n",
      "\u001b[1;31mModuleNotFoundError\u001b[0m: No module named 'plots'"
     ]
    }
   ],
   "source": [
    "import utils"
   ]
  },
  {
   "cell_type": "code",
   "execution_count": null,
   "metadata": {},
   "outputs": [],
   "source": [
    "from utils import load_data, load_evolution_data\n",
    "\n",
    "save = False # if ``True`` plots will be saved in the current directory as pdfs"
   ]
  },
  {
   "cell_type": "code",
   "execution_count": null,
   "metadata": {},
   "outputs": [],
   "source": [
    "import seaborn"
   ]
  },
  {
   "cell_type": "code",
   "execution_count": null,
   "metadata": {},
   "outputs": [],
   "source": [
    "# Trial Figure 7: Comparing the performance of different libraries\n",
    "\n",
    "from libraries import Library, plot_libraries\n",
    "import utils\n",
    "\n",
    "cpu_data = utils.load_data(r\"C:\\Users\\nithy\\Desktop\\qibojit-benchmarks\\libraries_cpu.dat\")\n",
    "gpu_data = utils.load_data(r\"C:\\Users\\nithy\\Desktop\\qibojit-benchmarks\\libraries_cpu.dat\")\n",
    "\n",
    "palette = seaborn.color_palette(\"bright\", 7)\n",
    "libraries = [\n",
    "    Library(\"qibo\", palette[0], \"/\", \"Qibo\"),\n",
    "    #Library(\"qibo notGPU\", palette[0], \"/\", \"Qibo GPU\"),\n",
    "    Library(\"qiskit\", palette[1], \"-\", \"Qiskit\"),\n",
    "    #Library(\"qiskit-gpu notGPU\", palette[1], \"-\", \"Qiskit GPU\"),\n",
    "    Library(\"hybridq\", palette[2], \"x\", \"HybridQ\"),\n",
    "    #Library(\"hybridq-gpu notGPU\", palette[2], \"x\", \"HybridQ GPU\"),\n",
    "    Library(\"qulacs\", palette[4], \"\\\\\", \"Qulacs\", has_single=False),\n",
    "    #Library(\"qulacs-gpu notGPU\", palette[4], \"\\\\\", \"Qulacs GPU\", has_single=False),\n",
    "    Library(\"projectq\", palette[3], \"o\", \"ProjectQ\", has_single=False),\n",
    "    #Library(\"qcgpu notGPU\", palette[3], \"o\", \"QCGPU\", has_double=False)\n",
    "]\n",
    "\n",
    "#plot_libraries(libraries, cpu_data, gpu_data, \"total_dry_time\", 20, precision=\"single\", legend=False, save=save)\n",
    "plot_libraries(libraries, cpu_data, gpu_data, \"total_dry_time\", 30, precision=\"single\", legend=True, save=save)\n",
    "\n",
    "#plot_libraries(libraries, cpu_data, gpu_data, \"total_dry_time\", 20, precision=\"double\", legend=False, save=save)\n",
    "#plot_libraries(libraries, cpu_data, gpu_data, \"total_dry_time\", 30, precision=\"double\", legend=True, save=save)"
   ]
  }
 ],
 "metadata": {
  "kernelspec": {
   "display_name": "Python 3",
   "language": "python",
   "name": "python3"
  },
  "language_info": {
   "codemirror_mode": {
    "name": "ipython",
    "version": 3
   },
   "file_extension": ".py",
   "mimetype": "text/x-python",
   "name": "python",
   "nbconvert_exporter": "python",
   "pygments_lexer": "ipython3",
   "version": "3.9.13"
  }
 },
 "nbformat": 4,
 "nbformat_minor": 2
}
